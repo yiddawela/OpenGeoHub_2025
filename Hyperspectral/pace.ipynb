{
 "cells": [
  {
   "cell_type": "markdown",
   "id": "7f40c8cf",
   "metadata": {},
   "source": [
    "# Tutorial on using PACE data"
   ]
  },
  {
   "cell_type": "code",
   "execution_count": null,
   "id": "df092869",
   "metadata": {},
   "outputs": [],
   "source": []
  }
 ],
 "metadata": {
  "kernelspec": {
   "display_name": "Python 3",
   "language": "python",
   "name": "python3"
  },
  "language_info": {
   "name": "python",
   "version": "3.11.13"
  }
 },
 "nbformat": 4,
 "nbformat_minor": 5
}
